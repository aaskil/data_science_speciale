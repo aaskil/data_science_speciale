{
 "cells": [
  {
   "cell_type": "code",
   "execution_count": null,
   "metadata": {},
   "outputs": [],
   "source": [
    "from hik_camera import HikCamera\n",
    "ips = HikCamera.get_all_ips()\n",
    "print(\"All camera IP adresses:\", ips)\n",
    "ip = ips[0]\n",
    "cam = HikCamera(ip)\n",
    "with cam:  # 用 with 的上下文的方式来 OpenDevice\n",
    "   cam[\"ExposureAuto\"] = \"Off\"  # 配置参数和海康官方 API 一致\n",
    "   cam[\"ExposureTime\"] = 50000  # 单位 ns\n",
    "   rgb = cam.robust_get_frame()  # rgb's shape is np.uint8(h, w, 3)\n",
    "   print(\"Saveing image to:\", cam.save(rgb, ip + \".jpg\"))"
   ]
  },
  {
   "cell_type": "code",
   "execution_count": null,
   "metadata": {},
   "outputs": [],
   "source": [
    "from hik_camera import HikCamera"
   ]
  },
  {
   "cell_type": "code",
   "execution_count": null,
   "metadata": {},
   "outputs": [],
   "source": [
    "ips = HikCamera.get_all_ips()\n",
    "print(\"All camera IP adresses:\", ips)"
   ]
  },
  {
   "cell_type": "code",
   "execution_count": null,
   "metadata": {},
   "outputs": [],
   "source": [
    "assert not 1"
   ]
  },
  {
   "cell_type": "code",
   "execution_count": null,
   "metadata": {},
   "outputs": [],
   "source": [
    "import numpy\n",
    "from stl import mesh\n",
    "from mpl_toolkits import mplot3d\n",
    "from matplotlib import pyplot\n",
    "\n",
    "# Create a new plot\n",
    "figure = pyplot.figure()\n",
    "axes = figure.add_subplot(projection='3d')\n",
    "\n",
    "# Load the STL files and add the vectors to the plot\n",
    "your_mesh = mesh.Mesh.from_file('/Users/askilfolgero/Library/Mobile Documents/com~apple~CloudDocs/Data Science/data_science/code python/3d_printer/stempel_AB v1.stl')\n",
    "axes.add_collection3d(mplot3d.art3d.Poly3DCollection(your_mesh.vectors))\n",
    "\n",
    "# Auto scale to the mesh size\n",
    "scale = your_mesh.points.flatten()\n",
    "axes.auto_scale_xyz(scale, scale, scale)\n",
    "\n",
    "# Show the plot to the screen\n",
    "pyplot.show()"
   ]
  },
  {
   "cell_type": "code",
   "execution_count": null,
   "metadata": {},
   "outputs": [],
   "source": [
    "import numpy as np\n",
    "from stl import mesh\n",
    "import matplotlib.pyplot as plt\n",
    "from mpl_toolkits.mplot3d import Axes3D\n",
    "\n",
    "# Load your STL file\n",
    "your_mesh = mesh.Mesh.from_file('/Users/askilfolgero/Library/Mobile Documents/com~apple~CloudDocs/Data Science/data_science/code python/3d_printer/stempel_AB v1.stl')\n",
    "\n",
    "# Define a fixed point (for example, the origin)\n",
    "fixed_point = np.array([0, 0, 0])\n",
    "\n",
    "# Calculate distances from the fixed point to all vertices in the mesh\n",
    "# First, get all unique vertices from the mesh\n",
    "vertices = np.vstack({tuple(row) for row in your_mesh.vectors.reshape([-1, 3])})\n",
    "\n",
    "# Then, calculate the Euclidean distance from the fixed point to each vertex\n",
    "distances = np.sqrt(((vertices - fixed_point) ** 2).sum(axis=1))\n",
    "\n",
    "# Optionally, you can visualize the distance map\n",
    "# For simplicity, we'll just plot the distance values against their index\n",
    "plt.figure()\n",
    "plt.plot(distances, 'o')\n",
    "plt.title('Distance from Fixed Point to Each Vertex')\n",
    "plt.xlabel('Vertex Index')\n",
    "plt.ylabel('Distance')\n",
    "plt.show()\n",
    "\n",
    "# If you want to create a more sophisticated \"map,\" you would need to decide on the format.\n",
    "# A simple approach could be to keep the distances as a list or array as shown.\n",
    "# For more complex visualizations, further processing may be required depending on your specific needs.\n"
   ]
  }
 ],
 "metadata": {
  "kernelspec": {
   "display_name": "speciale",
   "language": "python",
   "name": "python3"
  },
  "language_info": {
   "codemirror_mode": {
    "name": "ipython",
    "version": 3
   },
   "file_extension": ".py",
   "mimetype": "text/x-python",
   "name": "python",
   "nbconvert_exporter": "python",
   "pygments_lexer": "ipython3",
   "version": "3.1.0"
  }
 },
 "nbformat": 4,
 "nbformat_minor": 2
}
