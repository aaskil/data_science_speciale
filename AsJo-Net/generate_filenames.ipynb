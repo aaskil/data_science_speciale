{
 "cells": [
  {
   "cell_type": "code",
   "execution_count": null,
   "metadata": {},
   "outputs": [],
   "source": [
    "import os"
   ]
  },
  {
   "cell_type": "markdown",
   "metadata": {},
   "source": [
    "# train"
   ]
  },
  {
   "cell_type": "code",
   "execution_count": null,
   "metadata": {},
   "outputs": [],
   "source": [
    "left_train_image_path      = \"/Users/askilfolgero/Documents/sceneflow/FlyingThings/FlyingThings3D_subset/train/image_clean/left/\"\n",
    "right_train_image_path     = \"/Users/askilfolgero/Documents/sceneflow/FlyingThings/FlyingThings3D_subset/train/image_clean/right/\"\n",
    "\n",
    "left_train_disparity_path  = \"/Users/askilfolgero/Documents/sceneflow/FlyingThings/FlyingThings3D_subset/train/disparity/left/\"\n",
    "right_train_disparity_path = \"/Users/askilfolgero/Documents/sceneflow/FlyingThings/FlyingThings3D_subset/train/disparity/right/\""
   ]
  },
  {
   "cell_type": "code",
   "execution_count": null,
   "metadata": {},
   "outputs": [],
   "source": [
    "with open(\"sceneflow_train_flying_things.txt\", \"w\") as f:\n",
    "    base_path = \"sceneflow/FlyingThings/FlyingThings3D_subset/train/\"\n",
    "    left_images      = sorted(os.listdir(left_train_image_path))\n",
    "    right_images     = sorted(os.listdir(right_train_image_path))\n",
    "    left_disparities = sorted(os.listdir(left_train_disparity_path))\n",
    "\n",
    "    for left_image, right_image, left_disparity in zip(left_images, right_images, left_disparities):\n",
    "        left_image_path  = os.path.join(base_path, \"image_clean/left\", left_image)\n",
    "        right_image_path = os.path.join(base_path, \"image_clean/right\", right_image)\n",
    "        left_disparity_path = os.path.join(base_path, \"disparity/left\", left_disparity)\n",
    "\n",
    "        f.write(left_image_path + \" \" + right_image_path + \" \" + left_disparity_path + \"\\n\")"
   ]
  },
  {
   "cell_type": "code",
   "execution_count": null,
   "metadata": {},
   "outputs": [],
   "source": [
    "print(f\"number of left images: {len(left_images)}\")"
   ]
  },
  {
   "cell_type": "code",
   "execution_count": null,
   "metadata": {},
   "outputs": [],
   "source": [
    "print(type(left_images))"
   ]
  },
  {
   "cell_type": "code",
   "execution_count": null,
   "metadata": {},
   "outputs": [],
   "source": [
    "sorted(left_images)"
   ]
  },
  {
   "cell_type": "markdown",
   "metadata": {},
   "source": [
    "# val"
   ]
  },
  {
   "cell_type": "code",
   "execution_count": 20,
   "metadata": {},
   "outputs": [],
   "source": [
    "left_val_image_path      = \"/Users/askilfolgero/Documents/sceneflow/FlyingThings/FlyingThings3D_subset/val/image_clean/left/\"\n",
    "right_val_image_path     = \"/Users/askilfolgero/Documents/sceneflow/FlyingThings/FlyingThings3D_subset/val/image_clean/right/\"\n",
    "\n",
    "left_val_disparity_path  = \"/Users/askilfolgero/Documents/sceneflow/FlyingThings/FlyingThings3D_subset/val/disparity/left/\"\n",
    "right_val_disparity_path = \"/Users/askilfolgero/Documents/sceneflow/FlyingThings/FlyingThings3D_subset/val/disparity/right/\""
   ]
  },
  {
   "cell_type": "code",
   "execution_count": 21,
   "metadata": {},
   "outputs": [],
   "source": [
    "with open(\"sceneflow_val_flying_things.txt\", \"w\") as f:\n",
    "    base_path = \"sceneflow/FlyingThings/FlyingThings3D_subset/val/\"\n",
    "    left_images      = sorted(os.listdir(left_val_image_path))\n",
    "    right_images     = sorted(os.listdir(right_val_image_path))\n",
    "    left_disparities = sorted(os.listdir(left_val_disparity_path))\n",
    "\n",
    "    for left_image, right_image, left_disparity in zip(left_images, right_images, left_disparities):\n",
    "        left_image_path  = os.path.join(base_path, \"image_clean/left\", left_image)\n",
    "        right_image_path = os.path.join(base_path, \"image_clean/right\", right_image)\n",
    "        left_disparity_path = os.path.join(base_path, \"disparity/left\", left_disparity)\n",
    "\n",
    "        f.write(left_image_path + \" \" + right_image_path + \" \" + left_disparity_path + \"\\n\")"
   ]
  }
 ],
 "metadata": {
  "kernelspec": {
   "display_name": "speciale",
   "language": "python",
   "name": "python3"
  },
  "language_info": {
   "codemirror_mode": {
    "name": "ipython",
    "version": 3
   },
   "file_extension": ".py",
   "mimetype": "text/x-python",
   "name": "python",
   "nbconvert_exporter": "python",
   "pygments_lexer": "ipython3",
   "version": "3.1.0"
  }
 },
 "nbformat": 4,
 "nbformat_minor": 2
}
