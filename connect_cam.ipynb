{
 "cells": [
  {
   "cell_type": "code",
   "execution_count": null,
   "metadata": {},
   "outputs": [],
   "source": [
    "################## Settings to be used #####################\n",
    "CTI_FILE = \"Scape/Kamerasetup/bgapi2_gige.cti\"\n",
    "# SERIAL_NUMBER = \"[PhoXi3DScan]-(UserExamples-Mark_Scans2)\"\n",
    "SERIAL_NUMBER = \"\"\n",
    "TRIGGER_SOFTWARE = \"TriggerFrame\"\n",
    "\n",
    "POINTCLOUD_DATA_INDEX = 2\n",
    "MONO_DATA_INDEX = 0\n",
    "CONVERSION_FACTOR = 0.001 # The Conversion ratio from scanner units to meters eg. mm to m is 0.001\n",
    "################## Settings to be used #####################\n",
    "\n",
    "def main(args=None):\n",
    "    from harvesters.core import Harvester\n",
    "    harvester = Harvester()\n",
    "    harvester.add_file(CTI_FILE,check_existence=True,check_validity=True)\n",
    "    harvester.update()\n",
    "    device = harvester.create(\n",
    "        # {'serial_number': SERIAL_NUMBER},\n",
    "        {'model': 'MV-CS200-10GM',\n",
    "        'serial_number': 'K59787209'}\n",
    "        )\n",
    "    # device = harvester.create(0)\n",
    "\n",
    "    features = device.remote_device.node_map\n",
    "    SetSettings(features)\n",
    "\n",
    "    device.start()\n",
    "    print(\"Starting acqusition\")\n",
    "    while (True):\n",
    "        acquire(device,features)\n",
    "\n",
    "\n",
    "if __name__ == '__main__':\n",
    "    main()"
   ]
  },
  {
   "cell_type": "code",
   "execution_count": null,
   "metadata": {},
   "outputs": [],
   "source": [
    "from harvesters.core import Harvester\n",
    "\n",
    "harvester = Harvester()"
   ]
  },
  {
   "cell_type": "code",
   "execution_count": null,
   "metadata": {},
   "outputs": [],
   "source": [
    "\n",
    "harvester.add_file(\n",
    "    \"/Users/jonashedegaard/Library/CloudStorage/OneDrive-SyddanskUniversitet/GitHub/data_science_speciale/Scape/Kamerasetup/bgapi2_gige.cti\")\n"
   ]
  },
  {
   "cell_type": "code",
   "execution_count": null,
   "metadata": {},
   "outputs": [],
   "source": [
    "harvester.files"
   ]
  },
  {
   "cell_type": "code",
   "execution_count": null,
   "metadata": {},
   "outputs": [],
   "source": [
    "harvester.update"
   ]
  },
  {
   "cell_type": "code",
   "execution_count": null,
   "metadata": {},
   "outputs": [],
   "source": [
    "harvester.device_info_list"
   ]
  },
  {
   "cell_type": "code",
   "execution_count": null,
   "metadata": {},
   "outputs": [],
   "source": [
    "from harvesters.core import Harvester, DeviceInfo\n",
    "harvester = Harvester()\n",
    "\n",
    "harvester.add_file(\n",
    "    \"/Users/jonashedegaard/Library/CloudStorage/OneDrive-SyddanskUniversitet/GitHub/data_science_speciale/Scape/Kamerasetup/bgapi2_gige.cti\",\n",
    "    check_existence=False,\n",
    "    check_validity=False)\n",
    "\n",
    "harvester.update()\n",
    "\n",
    "device = harvester.create()\n",
    "\n",
    "device = harvester.device_info_list\n",
    "\n"
   ]
  },
  {
   "cell_type": "code",
   "execution_count": null,
   "metadata": {},
   "outputs": [],
   "source": []
  },
  {
   "cell_type": "code",
   "execution_count": null,
   "metadata": {},
   "outputs": [],
   "source": [
    "print(DeviceInfo.search_keys)"
   ]
  },
  {
   "cell_type": "code",
   "execution_count": null,
   "metadata": {},
   "outputs": [],
   "source": [
    "print(harvester.device_info_list)"
   ]
  },
  {
   "cell_type": "code",
   "execution_count": null,
   "metadata": {},
   "outputs": [],
   "source": [
    "ia = harvester.create({'vendor': 'HIKROBOTLS'})"
   ]
  },
  {
   "cell_type": "code",
   "execution_count": null,
   "metadata": {},
   "outputs": [],
   "source": [
    "import cv2\n",
    "\n",
    "def main():\n",
    "    # Initialize the webcam\n",
    "    cap = cv2.VideoCapture(1)  # '0' is usually the default ID for the first webcam\n",
    "\n",
    "    if not cap.isOpened():\n",
    "        print(\"Error: Could not open webcam.\")\n",
    "        return\n",
    "\n",
    "    # Set frame width and height (optional, depending on your needs)\n",
    "    # cap.set(cv2.CAP_PROP_FRAME_WIDTH, 1280)\n",
    "    # cap.set(cv2.CAP_PROP_FRAME_HEIGHT, 720)\n",
    "\n",
    "    while True:\n",
    "        # Capture frame-by-frame\n",
    "        ret, frame = cap.read()\n",
    "\n",
    "        if not ret:\n",
    "            print(\"Error: Could not read frame.\")\n",
    "            break\n",
    "\n",
    "        # Display the resulting frame\n",
    "        cv2.imshow('Webcam Live', frame)\n",
    "\n",
    "        # Break the loop when 'q' is pressed\n",
    "        if cv2.waitKey(1) & 0xFF == ord('q'):\n",
    "            break\n",
    "\n",
    "    # When everything is done, release the capture\n",
    "    cap.release()\n",
    "    cv2.destroyAllWindows()\n",
    "\n",
    "if __name__ == \"__main__\":\n",
    "    main()"
   ]
  },
  {
   "cell_type": "code",
   "execution_count": null,
   "metadata": {},
   "outputs": [],
   "source": [
    "import hikvision.api "
   ]
  },
  {
   "cell_type": "code",
   "execution_count": null,
   "metadata": {},
   "outputs": [],
   "source": [
    "hik_camera = hikvision.api.CreateDevice('169.254.197.209', username='admin', password='12345')\n"
   ]
  },
  {
   "cell_type": "code",
   "execution_count": null,
   "metadata": {},
   "outputs": [],
   "source": [
    "from hik_camera import HikCamera\n",
    "ips = HikCamera.get_all_ips()\n",
    "print(\"All camera IP adresses:\", ips)\n",
    "ip = ips[0]\n",
    "cam = HikCamera(ip)\n",
    "with cam:  # 用 with 的上下文的方式来 OpenDevice\n",
    "   cam[\"ExposureAuto\"] = \"Off\"  # 配置参数和海康官方 API 一致\n",
    "   cam[\"ExposureTime\"] = 50000  # 单位 ns\n",
    "   rgb = cam.robust_get_frame()  # rgb's shape is np.uint8(h, w, 3)\n",
    "   print(\"Saveing image to:\", cam.save(rgb, ip + \".jpg\"))"
   ]
  },
  {
   "cell_type": "code",
   "execution_count": 3,
   "metadata": {},
   "outputs": [
    {
     "name": "stdout",
     "output_type": "stream",
     "text": [
      "All camera IP adresses: ['169.254.188.170', '169.254.197.209']\n"
     ]
    },
    {
     "ename": "AssertionError",
     "evalue": "MV_CC_SetEnumValue('TriggerMode', 1) not return 0",
     "output_type": "error",
     "traceback": [
      "\u001b[0;31m---------------------------------------------------------------------------\u001b[0m",
      "\u001b[0;31mAssertionError\u001b[0m                            Traceback (most recent call last)",
      "\u001b[1;32m/Users/jonashedegaard/Library/CloudStorage/OneDrive-SyddanskUniversitet/GitHub/data_science_speciale/connect_cam.ipynb Cell 16\u001b[0m line \u001b[0;36m6\n\u001b[1;32m      <a href='vscode-notebook-cell:/Users/jonashedegaard/Library/CloudStorage/OneDrive-SyddanskUniversitet/GitHub/data_science_speciale/connect_cam.ipynb#X23sZmlsZQ%3D%3D?line=3'>4</a>\u001b[0m ip \u001b[39m=\u001b[39m ips[\u001b[39m0\u001b[39m]\n\u001b[1;32m      <a href='vscode-notebook-cell:/Users/jonashedegaard/Library/CloudStorage/OneDrive-SyddanskUniversitet/GitHub/data_science_speciale/connect_cam.ipynb#X23sZmlsZQ%3D%3D?line=4'>5</a>\u001b[0m cam \u001b[39m=\u001b[39m HikCamera(ip)\n\u001b[0;32m----> <a href='vscode-notebook-cell:/Users/jonashedegaard/Library/CloudStorage/OneDrive-SyddanskUniversitet/GitHub/data_science_speciale/connect_cam.ipynb#X23sZmlsZQ%3D%3D?line=5'>6</a>\u001b[0m \u001b[39mwith\u001b[39;00m cam:  \u001b[39m# 用 with 的上下文的方式来 OpenDevice\u001b[39;00m\n\u001b[1;32m      <a href='vscode-notebook-cell:/Users/jonashedegaard/Library/CloudStorage/OneDrive-SyddanskUniversitet/GitHub/data_science_speciale/connect_cam.ipynb#X23sZmlsZQ%3D%3D?line=6'>7</a>\u001b[0m    cam[\u001b[39m\"\u001b[39m\u001b[39mExposureAuto\u001b[39m\u001b[39m\"\u001b[39m] \u001b[39m=\u001b[39m \u001b[39m\"\u001b[39m\u001b[39mOff\u001b[39m\u001b[39m\"\u001b[39m  \u001b[39m# 配置参数和海康官方 API 一致\u001b[39;00m\n\u001b[1;32m      <a href='vscode-notebook-cell:/Users/jonashedegaard/Library/CloudStorage/OneDrive-SyddanskUniversitet/GitHub/data_science_speciale/connect_cam.ipynb#X23sZmlsZQ%3D%3D?line=7'>8</a>\u001b[0m    cam[\u001b[39m\"\u001b[39m\u001b[39mExposureTime\u001b[39m\u001b[39m\"\u001b[39m] \u001b[39m=\u001b[39m \u001b[39m50000\u001b[39m  \u001b[39m# 单位 ns\u001b[39;00m\n",
      "File \u001b[0;32m/Applications/anaconda3/envs/genicam2/lib/python3.10/site-packages/hik_camera/hik_camera.py:378\u001b[0m, in \u001b[0;36mHikCamera.__enter__\u001b[0;34m(self)\u001b[0m\n\u001b[1;32m    374\u001b[0m \u001b[39mdef\u001b[39;00m \u001b[39m__enter__\u001b[39m(\u001b[39mself\u001b[39m):\n\u001b[1;32m    375\u001b[0m     \u001b[39m# assert not self.MV_CC_OpenDevice(hik.MV_ACCESS_Exclusive, 0)\u001b[39;00m\n\u001b[1;32m    376\u001b[0m \n\u001b[1;32m    377\u001b[0m     \u001b[39m# TODO rember setting\u001b[39;00m\n\u001b[0;32m--> 378\u001b[0m     \u001b[39mself\u001b[39;49m\u001b[39m.\u001b[39;49msetitem(\u001b[39m\"\u001b[39;49m\u001b[39mTriggerMode\u001b[39;49m\u001b[39m\"\u001b[39;49m, hik\u001b[39m.\u001b[39;49mMV_TRIGGER_MODE_ON)\n\u001b[1;32m    379\u001b[0m     \u001b[39mself\u001b[39m\u001b[39m.\u001b[39msetitem(\u001b[39m\"\u001b[39m\u001b[39mTriggerSource\u001b[39m\u001b[39m\"\u001b[39m, hik\u001b[39m.\u001b[39mMV_TRIGGER_SOURCE_SOFTWARE)\n\u001b[1;32m    380\u001b[0m     \u001b[39mself\u001b[39m\u001b[39m.\u001b[39msetitem(\u001b[39m\"\u001b[39m\u001b[39mAcquisitionFrameRateEnable\u001b[39m\u001b[39m\"\u001b[39m, \u001b[39mFalse\u001b[39;00m)\n",
      "File \u001b[0;32m/Applications/anaconda3/envs/genicam2/lib/python3.10/site-packages/hik_camera/hik_camera.py:479\u001b[0m, in \u001b[0;36mHikCamera.setitem\u001b[0;34m(self, key, value)\u001b[0m\n\u001b[1;32m    477\u001b[0m     set_func \u001b[39m=\u001b[39m \u001b[39mself\u001b[39m\u001b[39m.\u001b[39mMV_CC_RegisterEventCallBackEx\n\u001b[1;32m    478\u001b[0m \u001b[39mwith\u001b[39;00m \u001b[39mself\u001b[39m\u001b[39m.\u001b[39mlock:\n\u001b[0;32m--> 479\u001b[0m     \u001b[39massert\u001b[39;00m \u001b[39mnot\u001b[39;00m set_func(\n\u001b[1;32m    480\u001b[0m         key, value\n\u001b[1;32m    481\u001b[0m     ), \u001b[39mf\u001b[39m\u001b[39m\"\u001b[39m\u001b[39m{\u001b[39;00mset_func\u001b[39m.\u001b[39m\u001b[39m__name__\u001b[39m\u001b[39m}\u001b[39;00m\u001b[39m(\u001b[39m\u001b[39m'\u001b[39m\u001b[39m{\u001b[39;00mkey\u001b[39m}\u001b[39;00m\u001b[39m'\u001b[39m\u001b[39m, \u001b[39m\u001b[39m{\u001b[39;00mvalue\u001b[39m}\u001b[39;00m\u001b[39m) not return 0\u001b[39m\u001b[39m\"\u001b[39m\n",
      "\u001b[0;31mAssertionError\u001b[0m: MV_CC_SetEnumValue('TriggerMode', 1) not return 0"
     ]
    }
   ],
   "source": [
    "from hik_camera import HikCamera\n",
    "ips = HikCamera.get_all_ips()\n",
    "print(\"All camera IP adresses:\", ips)\n",
    "ip = ips[0]\n",
    "cam = HikCamera(ip)\n",
    "with cam:  # 用 with 的上下文的方式来 OpenDevice\n",
    "   cam[\"ExposureAuto\"] = \"Off\"  # 配置参数和海康官方 API 一致\n",
    "   cam[\"ExposureTime\"] = 50000  # 单位 ns\n",
    "   rgb = cam.robust_get_frame()  # rgb's shape is np.uint8(h, w, 3)\n",
    "   print(\"Saveing image to:\", cam.save(rgb, ip + \".jpg\"))"
   ]
  },
  {
   "cell_type": "code",
   "execution_count": 2,
   "metadata": {},
   "outputs": [
    {
     "name": "stdout",
     "output_type": "stream",
     "text": [
      "All camera IP adresses: ['169.254.188.170', '169.254.197.209']\n"
     ]
    },
    {
     "ename": "AssertionError",
     "evalue": "MV_CC_SetEnumValue('TriggerMode', 1) not return 0",
     "output_type": "error",
     "traceback": [
      "\u001b[0;31m---------------------------------------------------------------------------\u001b[0m",
      "\u001b[0;31mAssertionError\u001b[0m                            Traceback (most recent call last)",
      "\u001b[1;32m/Users/jonashedegaard/Library/CloudStorage/OneDrive-SyddanskUniversitet/GitHub/data_science_speciale/connect_cam.ipynb Cell 17\u001b[0m line \u001b[0;36m1\n\u001b[1;32m      <a href='vscode-notebook-cell:/Users/jonashedegaard/Library/CloudStorage/OneDrive-SyddanskUniversitet/GitHub/data_science_speciale/connect_cam.ipynb#X22sZmlsZQ%3D%3D?line=8'>9</a>\u001b[0m cam \u001b[39m=\u001b[39m HikCamera(ip\u001b[39m=\u001b[39mip)\n\u001b[1;32m     <a href='vscode-notebook-cell:/Users/jonashedegaard/Library/CloudStorage/OneDrive-SyddanskUniversitet/GitHub/data_science_speciale/connect_cam.ipynb#X22sZmlsZQ%3D%3D?line=10'>11</a>\u001b[0m \u001b[39mtype\u001b[39m(cam)\n\u001b[0;32m---> <a href='vscode-notebook-cell:/Users/jonashedegaard/Library/CloudStorage/OneDrive-SyddanskUniversitet/GitHub/data_science_speciale/connect_cam.ipynb#X22sZmlsZQ%3D%3D?line=12'>13</a>\u001b[0m \u001b[39mwith\u001b[39;00m cam:\n\u001b[1;32m     <a href='vscode-notebook-cell:/Users/jonashedegaard/Library/CloudStorage/OneDrive-SyddanskUniversitet/GitHub/data_science_speciale/connect_cam.ipynb#X22sZmlsZQ%3D%3D?line=13'>14</a>\u001b[0m     cam[\u001b[39m'\u001b[39m\u001b[39mExposureAuto\u001b[39m\u001b[39m'\u001b[39m] \u001b[39m=\u001b[39m \u001b[39m'\u001b[39m\u001b[39moff\u001b[39m\u001b[39m'\u001b[39m\n\u001b[1;32m     <a href='vscode-notebook-cell:/Users/jonashedegaard/Library/CloudStorage/OneDrive-SyddanskUniversitet/GitHub/data_science_speciale/connect_cam.ipynb#X22sZmlsZQ%3D%3D?line=14'>15</a>\u001b[0m     cam[\u001b[39m'\u001b[39m\u001b[39mExposureTime\u001b[39m\u001b[39m'\u001b[39m] \u001b[39m=\u001b[39m \u001b[39m5000\u001b[39m\n",
      "File \u001b[0;32m/Applications/anaconda3/envs/genicam2/lib/python3.10/site-packages/hik_camera/hik_camera.py:378\u001b[0m, in \u001b[0;36mHikCamera.__enter__\u001b[0;34m(self)\u001b[0m\n\u001b[1;32m    374\u001b[0m \u001b[39mdef\u001b[39;00m \u001b[39m__enter__\u001b[39m(\u001b[39mself\u001b[39m):\n\u001b[1;32m    375\u001b[0m     \u001b[39m# assert not self.MV_CC_OpenDevice(hik.MV_ACCESS_Exclusive, 0)\u001b[39;00m\n\u001b[1;32m    376\u001b[0m \n\u001b[1;32m    377\u001b[0m     \u001b[39m# TODO rember setting\u001b[39;00m\n\u001b[0;32m--> 378\u001b[0m     \u001b[39mself\u001b[39;49m\u001b[39m.\u001b[39;49msetitem(\u001b[39m\"\u001b[39;49m\u001b[39mTriggerMode\u001b[39;49m\u001b[39m\"\u001b[39;49m, hik\u001b[39m.\u001b[39;49mMV_TRIGGER_MODE_ON)\n\u001b[1;32m    379\u001b[0m     \u001b[39mself\u001b[39m\u001b[39m.\u001b[39msetitem(\u001b[39m\"\u001b[39m\u001b[39mTriggerSource\u001b[39m\u001b[39m\"\u001b[39m, hik\u001b[39m.\u001b[39mMV_TRIGGER_SOURCE_SOFTWARE)\n\u001b[1;32m    380\u001b[0m     \u001b[39mself\u001b[39m\u001b[39m.\u001b[39msetitem(\u001b[39m\"\u001b[39m\u001b[39mAcquisitionFrameRateEnable\u001b[39m\u001b[39m\"\u001b[39m, \u001b[39mFalse\u001b[39;00m)\n",
      "File \u001b[0;32m/Applications/anaconda3/envs/genicam2/lib/python3.10/site-packages/hik_camera/hik_camera.py:479\u001b[0m, in \u001b[0;36mHikCamera.setitem\u001b[0;34m(self, key, value)\u001b[0m\n\u001b[1;32m    477\u001b[0m     set_func \u001b[39m=\u001b[39m \u001b[39mself\u001b[39m\u001b[39m.\u001b[39mMV_CC_RegisterEventCallBackEx\n\u001b[1;32m    478\u001b[0m \u001b[39mwith\u001b[39;00m \u001b[39mself\u001b[39m\u001b[39m.\u001b[39mlock:\n\u001b[0;32m--> 479\u001b[0m     \u001b[39massert\u001b[39;00m \u001b[39mnot\u001b[39;00m set_func(\n\u001b[1;32m    480\u001b[0m         key, value\n\u001b[1;32m    481\u001b[0m     ), \u001b[39mf\u001b[39m\u001b[39m\"\u001b[39m\u001b[39m{\u001b[39;00mset_func\u001b[39m.\u001b[39m\u001b[39m__name__\u001b[39m\u001b[39m}\u001b[39;00m\u001b[39m(\u001b[39m\u001b[39m'\u001b[39m\u001b[39m{\u001b[39;00mkey\u001b[39m}\u001b[39;00m\u001b[39m'\u001b[39m\u001b[39m, \u001b[39m\u001b[39m{\u001b[39;00mvalue\u001b[39m}\u001b[39;00m\u001b[39m) not return 0\u001b[39m\u001b[39m\"\u001b[39m\n",
      "\u001b[0;31mAssertionError\u001b[0m: MV_CC_SetEnumValue('TriggerMode', 1) not return 0"
     ]
    }
   ],
   "source": [
    "from hik_camera import HikCamera, collect_img, bandwidth, get_all_ips\n",
    "import cv2\n",
    "\n",
    "ips = HikCamera.get_all_ips()\n",
    "\n",
    "print(\"All camera IP adresses:\", ips)\n",
    "\n",
    "ip = ips[0]\n",
    "cam = HikCamera(ip=ip)\n",
    "\n",
    "type(cam)\n",
    "\n",
    "with cam:\n",
    "    cam['ExposureAuto'] = 'off'\n",
    "    cam['ExposureTime'] = 5000\n",
    "\n",
    "    while True:\n",
    "        rgb = cam.robust_get_frame()\n",
    "        cv2.imshow('rgb', rgb)\n",
    "        cv2.waitKey(1)"
   ]
  }
 ],
 "metadata": {
  "kernelspec": {
   "display_name": "yolo",
   "language": "python",
   "name": "python3"
  },
  "language_info": {
   "codemirror_mode": {
    "name": "ipython",
    "version": 3
   },
   "file_extension": ".py",
   "mimetype": "text/x-python",
   "name": "python",
   "nbconvert_exporter": "python",
   "pygments_lexer": "ipython3",
   "version": "3.10.13"
  },
  "orig_nbformat": 4
 },
 "nbformat": 4,
 "nbformat_minor": 2
}
